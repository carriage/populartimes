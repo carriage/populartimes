{
 "cells": [
  {
   "cell_type": "code",
   "execution_count": 26,
   "metadata": {},
   "outputs": [],
   "source": [
    "import psycopg2\n",
    "import pandas as pd\n",
    "import numpy as np\n",
    "from pathlib import Path\n"
   ]
  },
  {
   "cell_type": "markdown",
   "metadata": {},
   "source": [
    "### Connect to AWS db"
   ]
  },
  {
   "cell_type": "code",
   "execution_count": 13,
   "metadata": {},
   "outputs": [],
   "source": [
    "host = 'chargingbusydb.cvfctobydzsd.us-east-1.rds.amazonaws.com'\n",
    "user = 'AdamBehrens'\n",
    "passw = ''\n",
    "database = 'stationbusydb'\n",
    "port='5432'\n",
    "conn_str = \"host={} dbname={} user={} password={} port={}\".format(host, database, user, passw, port)"
   ]
  },
  {
   "cell_type": "code",
   "execution_count": null,
   "metadata": {},
   "outputs": [],
   "source": []
  },
  {
   "cell_type": "markdown",
   "metadata": {},
   "source": [
    "### load CSV data"
   ]
  },
  {
   "cell_type": "code",
   "execution_count": 117,
   "metadata": {},
   "outputs": [],
   "source": [
    "# load each day csv file\n",
    "monday_path = str(Path('.') / './dataframes/weekly/061818_0.csv')\n",
    "monday_df = pd.read_csv(monday_path,  sep=',')\n",
    "f = open(r'{}'.format(monday_path), 'r')"
   ]
  },
  {
   "cell_type": "code",
   "execution_count": 139,
   "metadata": {},
   "outputs": [
    {
     "data": {
      "text/html": [
       "<div>\n",
       "<style>\n",
       "    .dataframe thead tr:only-child th {\n",
       "        text-align: right;\n",
       "    }\n",
       "\n",
       "    .dataframe thead th {\n",
       "        text-align: left;\n",
       "    }\n",
       "\n",
       "    .dataframe tbody tr th {\n",
       "        vertical-align: top;\n",
       "    }\n",
       "</style>\n",
       "<table border=\"1\" class=\"dataframe\">\n",
       "  <thead>\n",
       "    <tr style=\"text-align: right;\">\n",
       "      <th></th>\n",
       "      <th>Unnamed: 0</th>\n",
       "      <th>0</th>\n",
       "      <th>1</th>\n",
       "      <th>2</th>\n",
       "      <th>3</th>\n",
       "      <th>4</th>\n",
       "      <th>5</th>\n",
       "      <th>6</th>\n",
       "      <th>7</th>\n",
       "      <th>8</th>\n",
       "      <th>...</th>\n",
       "      <th>16</th>\n",
       "      <th>17</th>\n",
       "      <th>18</th>\n",
       "      <th>19</th>\n",
       "      <th>20</th>\n",
       "      <th>21</th>\n",
       "      <th>22</th>\n",
       "      <th>23</th>\n",
       "      <th>id</th>\n",
       "      <th>index</th>\n",
       "    </tr>\n",
       "  </thead>\n",
       "  <tbody>\n",
       "    <tr>\n",
       "      <th>count</th>\n",
       "      <td>642.0</td>\n",
       "      <td>642.000000</td>\n",
       "      <td>642.000000</td>\n",
       "      <td>642.000000</td>\n",
       "      <td>642.000000</td>\n",
       "      <td>642.000000</td>\n",
       "      <td>642.000000</td>\n",
       "      <td>642.000000</td>\n",
       "      <td>642.000000</td>\n",
       "      <td>642.000000</td>\n",
       "      <td>...</td>\n",
       "      <td>642.000000</td>\n",
       "      <td>642.000000</td>\n",
       "      <td>642.000000</td>\n",
       "      <td>642.000000</td>\n",
       "      <td>642.000000</td>\n",
       "      <td>642.000000</td>\n",
       "      <td>642.000000</td>\n",
       "      <td>642.000000</td>\n",
       "      <td>642.000000</td>\n",
       "      <td>642.000000</td>\n",
       "    </tr>\n",
       "    <tr>\n",
       "      <th>mean</th>\n",
       "      <td>0.0</td>\n",
       "      <td>37.451713</td>\n",
       "      <td>19.540498</td>\n",
       "      <td>8.093458</td>\n",
       "      <td>5.961059</td>\n",
       "      <td>8.176012</td>\n",
       "      <td>36.390966</td>\n",
       "      <td>109.221184</td>\n",
       "      <td>240.353583</td>\n",
       "      <td>475.473520</td>\n",
       "      <td>...</td>\n",
       "      <td>988.805296</td>\n",
       "      <td>919.685358</td>\n",
       "      <td>822.683801</td>\n",
       "      <td>652.674455</td>\n",
       "      <td>443.895639</td>\n",
       "      <td>250.889408</td>\n",
       "      <td>118.554517</td>\n",
       "      <td>61.210280</td>\n",
       "      <td>56910.887850</td>\n",
       "      <td>39279.532710</td>\n",
       "    </tr>\n",
       "    <tr>\n",
       "      <th>std</th>\n",
       "      <td>0.0</td>\n",
       "      <td>82.609895</td>\n",
       "      <td>49.146720</td>\n",
       "      <td>19.784107</td>\n",
       "      <td>13.996770</td>\n",
       "      <td>16.501648</td>\n",
       "      <td>50.680315</td>\n",
       "      <td>143.982982</td>\n",
       "      <td>289.126499</td>\n",
       "      <td>536.775666</td>\n",
       "      <td>...</td>\n",
       "      <td>1247.471062</td>\n",
       "      <td>1224.810942</td>\n",
       "      <td>1137.955394</td>\n",
       "      <td>945.489863</td>\n",
       "      <td>691.411006</td>\n",
       "      <td>436.332727</td>\n",
       "      <td>231.125944</td>\n",
       "      <td>125.411464</td>\n",
       "      <td>41513.674092</td>\n",
       "      <td>30664.550972</td>\n",
       "    </tr>\n",
       "    <tr>\n",
       "      <th>min</th>\n",
       "      <td>0.0</td>\n",
       "      <td>0.000000</td>\n",
       "      <td>0.000000</td>\n",
       "      <td>0.000000</td>\n",
       "      <td>0.000000</td>\n",
       "      <td>0.000000</td>\n",
       "      <td>0.000000</td>\n",
       "      <td>0.000000</td>\n",
       "      <td>0.000000</td>\n",
       "      <td>0.000000</td>\n",
       "      <td>...</td>\n",
       "      <td>0.000000</td>\n",
       "      <td>0.000000</td>\n",
       "      <td>0.000000</td>\n",
       "      <td>0.000000</td>\n",
       "      <td>0.000000</td>\n",
       "      <td>0.000000</td>\n",
       "      <td>0.000000</td>\n",
       "      <td>0.000000</td>\n",
       "      <td>32.000000</td>\n",
       "      <td>16.000000</td>\n",
       "    </tr>\n",
       "    <tr>\n",
       "      <th>25%</th>\n",
       "      <td>0.0</td>\n",
       "      <td>0.000000</td>\n",
       "      <td>0.000000</td>\n",
       "      <td>0.000000</td>\n",
       "      <td>0.000000</td>\n",
       "      <td>0.000000</td>\n",
       "      <td>0.000000</td>\n",
       "      <td>0.000000</td>\n",
       "      <td>34.000000</td>\n",
       "      <td>81.250000</td>\n",
       "      <td>...</td>\n",
       "      <td>112.000000</td>\n",
       "      <td>76.000000</td>\n",
       "      <td>58.250000</td>\n",
       "      <td>38.250000</td>\n",
       "      <td>17.250000</td>\n",
       "      <td>2.000000</td>\n",
       "      <td>0.000000</td>\n",
       "      <td>0.000000</td>\n",
       "      <td>13658.000000</td>\n",
       "      <td>8214.250000</td>\n",
       "    </tr>\n",
       "    <tr>\n",
       "      <th>50%</th>\n",
       "      <td>0.0</td>\n",
       "      <td>1.000000</td>\n",
       "      <td>0.000000</td>\n",
       "      <td>0.000000</td>\n",
       "      <td>0.000000</td>\n",
       "      <td>0.000000</td>\n",
       "      <td>16.000000</td>\n",
       "      <td>60.000000</td>\n",
       "      <td>143.500000</td>\n",
       "      <td>322.500000</td>\n",
       "      <td>...</td>\n",
       "      <td>588.000000</td>\n",
       "      <td>475.500000</td>\n",
       "      <td>383.500000</td>\n",
       "      <td>293.000000</td>\n",
       "      <td>155.000000</td>\n",
       "      <td>65.500000</td>\n",
       "      <td>17.000000</td>\n",
       "      <td>4.500000</td>\n",
       "      <td>58015.500000</td>\n",
       "      <td>37690.500000</td>\n",
       "    </tr>\n",
       "    <tr>\n",
       "      <th>75%</th>\n",
       "      <td>0.0</td>\n",
       "      <td>27.750000</td>\n",
       "      <td>9.750000</td>\n",
       "      <td>4.000000</td>\n",
       "      <td>4.000000</td>\n",
       "      <td>8.750000</td>\n",
       "      <td>53.500000</td>\n",
       "      <td>156.000000</td>\n",
       "      <td>339.500000</td>\n",
       "      <td>651.500000</td>\n",
       "      <td>...</td>\n",
       "      <td>1397.750000</td>\n",
       "      <td>1237.500000</td>\n",
       "      <td>1119.000000</td>\n",
       "      <td>921.250000</td>\n",
       "      <td>602.750000</td>\n",
       "      <td>296.250000</td>\n",
       "      <td>121.750000</td>\n",
       "      <td>55.000000</td>\n",
       "      <td>91809.750000</td>\n",
       "      <td>64142.750000</td>\n",
       "    </tr>\n",
       "    <tr>\n",
       "      <th>max</th>\n",
       "      <td>0.0</td>\n",
       "      <td>658.000000</td>\n",
       "      <td>441.000000</td>\n",
       "      <td>173.000000</td>\n",
       "      <td>103.000000</td>\n",
       "      <td>116.000000</td>\n",
       "      <td>374.000000</td>\n",
       "      <td>991.000000</td>\n",
       "      <td>1635.000000</td>\n",
       "      <td>3058.000000</td>\n",
       "      <td>...</td>\n",
       "      <td>6969.000000</td>\n",
       "      <td>7223.000000</td>\n",
       "      <td>7002.000000</td>\n",
       "      <td>5965.000000</td>\n",
       "      <td>4473.000000</td>\n",
       "      <td>2876.000000</td>\n",
       "      <td>1507.000000</td>\n",
       "      <td>829.000000</td>\n",
       "      <td>130730.000000</td>\n",
       "      <td>97651.000000</td>\n",
       "    </tr>\n",
       "  </tbody>\n",
       "</table>\n",
       "<p>8 rows × 27 columns</p>\n",
       "</div>"
      ],
      "text/plain": [
       "       Unnamed: 0           0           1           2           3           4  \\\n",
       "count       642.0  642.000000  642.000000  642.000000  642.000000  642.000000   \n",
       "mean          0.0   37.451713   19.540498    8.093458    5.961059    8.176012   \n",
       "std           0.0   82.609895   49.146720   19.784107   13.996770   16.501648   \n",
       "min           0.0    0.000000    0.000000    0.000000    0.000000    0.000000   \n",
       "25%           0.0    0.000000    0.000000    0.000000    0.000000    0.000000   \n",
       "50%           0.0    1.000000    0.000000    0.000000    0.000000    0.000000   \n",
       "75%           0.0   27.750000    9.750000    4.000000    4.000000    8.750000   \n",
       "max           0.0  658.000000  441.000000  173.000000  103.000000  116.000000   \n",
       "\n",
       "                5           6            7            8      ...       \\\n",
       "count  642.000000  642.000000   642.000000   642.000000      ...        \n",
       "mean    36.390966  109.221184   240.353583   475.473520      ...        \n",
       "std     50.680315  143.982982   289.126499   536.775666      ...        \n",
       "min      0.000000    0.000000     0.000000     0.000000      ...        \n",
       "25%      0.000000    0.000000    34.000000    81.250000      ...        \n",
       "50%     16.000000   60.000000   143.500000   322.500000      ...        \n",
       "75%     53.500000  156.000000   339.500000   651.500000      ...        \n",
       "max    374.000000  991.000000  1635.000000  3058.000000      ...        \n",
       "\n",
       "                16           17           18           19           20  \\\n",
       "count   642.000000   642.000000   642.000000   642.000000   642.000000   \n",
       "mean    988.805296   919.685358   822.683801   652.674455   443.895639   \n",
       "std    1247.471062  1224.810942  1137.955394   945.489863   691.411006   \n",
       "min       0.000000     0.000000     0.000000     0.000000     0.000000   \n",
       "25%     112.000000    76.000000    58.250000    38.250000    17.250000   \n",
       "50%     588.000000   475.500000   383.500000   293.000000   155.000000   \n",
       "75%    1397.750000  1237.500000  1119.000000   921.250000   602.750000   \n",
       "max    6969.000000  7223.000000  7002.000000  5965.000000  4473.000000   \n",
       "\n",
       "                21           22          23             id         index  \n",
       "count   642.000000   642.000000  642.000000     642.000000    642.000000  \n",
       "mean    250.889408   118.554517   61.210280   56910.887850  39279.532710  \n",
       "std     436.332727   231.125944  125.411464   41513.674092  30664.550972  \n",
       "min       0.000000     0.000000    0.000000      32.000000     16.000000  \n",
       "25%       2.000000     0.000000    0.000000   13658.000000   8214.250000  \n",
       "50%      65.500000    17.000000    4.500000   58015.500000  37690.500000  \n",
       "75%     296.250000   121.750000   55.000000   91809.750000  64142.750000  \n",
       "max    2876.000000  1507.000000  829.000000  130730.000000  97651.000000  \n",
       "\n",
       "[8 rows x 27 columns]"
      ]
     },
     "execution_count": 139,
     "metadata": {},
     "output_type": "execute_result"
    }
   ],
   "source": [
    "monday_df.describe()"
   ]
  },
  {
   "cell_type": "markdown",
   "metadata": {},
   "source": [
    "### perform db operations"
   ]
  },
  {
   "cell_type": "code",
   "execution_count": 158,
   "metadata": {},
   "outputs": [],
   "source": [
    "conn = psycopg2.connect(conn_str)"
   ]
  },
  {
   "cell_type": "markdown",
   "metadata": {},
   "source": [
    "#### open cursor"
   ]
  },
  {
   "cell_type": "code",
   "execution_count": 159,
   "metadata": {},
   "outputs": [],
   "source": [
    "# open a cursor to perform operations\n",
    "cur = conn.cursor()"
   ]
  },
  {
   "cell_type": "code",
   "execution_count": 162,
   "metadata": {},
   "outputs": [],
   "source": [
    "cur.execute('DROP TABLE tuesday')"
   ]
  },
  {
   "cell_type": "code",
   "execution_count": 160,
   "metadata": {},
   "outputs": [],
   "source": [
    "data = cur.execute('SELECT COUNT(*) FROM tuesday;')"
   ]
  },
  {
   "cell_type": "code",
   "execution_count": 163,
   "metadata": {},
   "outputs": [
    {
     "ename": "ProgrammingError",
     "evalue": "relation \"tuesday\" does not exist\n",
     "output_type": "error",
     "traceback": [
      "\u001b[0;31m---------------------------------------------------------------------------\u001b[0m",
      "\u001b[0;31mProgrammingError\u001b[0m                          Traceback (most recent call last)",
      "\u001b[0;32m<ipython-input-163-2085dc0b8c52>\u001b[0m in \u001b[0;36m<module>\u001b[0;34m()\u001b[0m\n\u001b[0;32m----> 1\u001b[0;31m \u001b[0mcur\u001b[0m\u001b[0;34m.\u001b[0m\u001b[0mcopy_from\u001b[0m\u001b[0;34m(\u001b[0m\u001b[0mf\u001b[0m\u001b[0;34m,\u001b[0m \u001b[0;34m'tuesday'\u001b[0m\u001b[0;34m,\u001b[0m \u001b[0msep\u001b[0m\u001b[0;34m=\u001b[0m\u001b[0;34m','\u001b[0m\u001b[0;34m,\u001b[0m \u001b[0mnull\u001b[0m\u001b[0;34m=\u001b[0m\u001b[0;34m\"\"\u001b[0m\u001b[0;34m)\u001b[0m\u001b[0;34m\u001b[0m\u001b[0m\n\u001b[0m",
      "\u001b[0;31mProgrammingError\u001b[0m: relation \"tuesday\" does not exist\n"
     ]
    }
   ],
   "source": [
    "cur.copy_from(f, 'tuesday', sep=',', null=\"\")"
   ]
  },
  {
   "cell_type": "code",
   "execution_count": 164,
   "metadata": {},
   "outputs": [],
   "source": [
    "conn.commit()\n",
    "cur.close()\n",
    "conn.close()"
   ]
  },
  {
   "cell_type": "code",
   "execution_count": 165,
   "metadata": {},
   "outputs": [],
   "source": []
  },
  {
   "cell_type": "code",
   "execution_count": 166,
   "metadata": {},
   "outputs": [],
   "source": []
  },
  {
   "cell_type": "code",
   "execution_count": 132,
   "metadata": {},
   "outputs": [],
   "source": [
    "data = cur.execute('SELECT COUNT(*) FROM monday;')"
   ]
  },
  {
   "cell_type": "code",
   "execution_count": 161,
   "metadata": {},
   "outputs": [
    {
     "data": {
      "text/plain": [
       "(387,)"
      ]
     },
     "execution_count": 161,
     "metadata": {},
     "output_type": "execute_result"
    }
   ],
   "source": [
    "cur.fetchone()"
   ]
  },
  {
   "cell_type": "code",
   "execution_count": 134,
   "metadata": {},
   "outputs": [],
   "source": [
    "cur.execute('SELECT * FROM monday;')"
   ]
  },
  {
   "cell_type": "code",
   "execution_count": 135,
   "metadata": {},
   "outputs": [],
   "source": []
  },
  {
   "cell_type": "code",
   "execution_count": 136,
   "metadata": {},
   "outputs": [
    {
     "ename": "InterfaceError",
     "evalue": "cursor already closed",
     "output_type": "error",
     "traceback": [
      "\u001b[0;31m---------------------------------------------------------------------------\u001b[0m",
      "\u001b[0;31mInterfaceError\u001b[0m                            Traceback (most recent call last)",
      "\u001b[0;32m<ipython-input-136-5501e92f1036>\u001b[0m in \u001b[0;36m<module>\u001b[0;34m()\u001b[0m\n\u001b[0;32m----> 1\u001b[0;31m \u001b[0mcur\u001b[0m\u001b[0;34m.\u001b[0m\u001b[0mfetchone\u001b[0m\u001b[0;34m(\u001b[0m\u001b[0;34m)\u001b[0m\u001b[0;34m\u001b[0m\u001b[0m\n\u001b[0m",
      "\u001b[0;31mInterfaceError\u001b[0m: cursor already closed"
     ]
    }
   ],
   "source": [
    "cur.fetchone()"
   ]
  },
  {
   "cell_type": "code",
   "execution_count": null,
   "metadata": {},
   "outputs": [],
   "source": [
    "# define SQL operation\n",
    "# SQL = \"IF EXISTS (SELECT * FROM monday WHERE index = (%s))\n",
    "BEGIN\n",
    "END\n",
    "ELSE\n",
    "BEGIN\n",
    "    INSERT INTO monday\n",
    "END;\"\n"
   ]
  },
  {
   "cell_type": "code",
   "execution_count": null,
   "metadata": {},
   "outputs": [],
   "source": [
    "# for each row in monday file:\n",
    "    # pull the id\n",
    "    # check if the row exists in the db\n",
    "    # if \n",
    "for index, row in maDF.iterrows(): # change to stationDF for full list\n",
    "    index = row['index']\n",
    "  "
   ]
  }
 ],
 "metadata": {
  "kernelspec": {
   "display_name": "Python [default]",
   "language": "python",
   "name": "python3"
  }
 },
 "nbformat": 4,
 "nbformat_minor": 1
}
