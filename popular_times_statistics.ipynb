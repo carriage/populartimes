{
 "cells": [
  {
   "cell_type": "code",
   "execution_count": 1,
   "metadata": {},
   "outputs": [
    {
     "data": {
      "text/plain": [
       "True"
      ]
     },
     "execution_count": 1,
     "metadata": {},
     "output_type": "execute_result"
    }
   ],
   "source": [
    "import populartimes\n",
    "import os\n",
    "from dotenv import load_dotenv\n",
    "from pathlib import Path\n",
    "env_path = str(Path('.') / '.env')\n",
    "load_dotenv(dotenv_path=env_path)"
   ]
  },
  {
   "cell_type": "code",
   "execution_count": 2,
   "metadata": {},
   "outputs": [],
   "source": [
    "from googleplaces import GooglePlaces, types, lang"
   ]
  },
  {
   "cell_type": "code",
   "execution_count": 191,
   "metadata": {},
   "outputs": [],
   "source": [
    "api_key = os.getenv(\"GOOGLE_API_KEY\")\n",
    "test_address = \"1018 Campus Drive, Stanford, CA 94305, USA\"\n",
    "test_address_2 = \"125 Precita Ave, Moss Beach, CA 94038, USA\"\n",
    "test_address_3 = \"425 S Main St, Ann Arbor MI 48104\"\n",
    "types = [\"establishment\"]\n",
    "p1 = (37.220627, -122.369142)\n",
    "p2 = (37.230627, -122.359142)"
   ]
  },
  {
   "cell_type": "code",
   "execution_count": 197,
   "metadata": {},
   "outputs": [
    {
     "data": {
      "text/plain": [
       "40.015141"
      ]
     },
     "execution_count": 197,
     "metadata": {},
     "output_type": "execute_result"
    }
   ],
   "source": [
    "test_name = \"Boulder Nissan\"\n",
    "p1_name = (40.015141, -105.278906)\n",
    "p2_name = (40.025141, -105.268906)\n",
    "\n",
    "min(p1_name[0], p2_name[0])"
   ]
  },
  {
   "cell_type": "code",
   "execution_count": 30,
   "metadata": {},
   "outputs": [
    {
     "ename": "NameError",
     "evalue": "name 'nearby_search' is not defined",
     "output_type": "error",
     "traceback": [
      "\u001b[0;31m---------------------------------------------------------------------------\u001b[0m",
      "\u001b[0;31mNameError\u001b[0m                                 Traceback (most recent call last)",
      "\u001b[0;32m<ipython-input-30-9a1ce5af5312>\u001b[0m in \u001b[0;36m<module>\u001b[0;34m()\u001b[0m\n\u001b[0;32m----> 1\u001b[0;31m \u001b[0mgoogle_places\u001b[0m \u001b[0;34m=\u001b[0m \u001b[0mnearby_search\u001b[0m\u001b[0;34m(\u001b[0m\u001b[0mapi_key\u001b[0m\u001b[0;34m)\u001b[0m\u001b[0;34m\u001b[0m\u001b[0m\n\u001b[0m",
      "\u001b[0;31mNameError\u001b[0m: name 'nearby_search' is not defined"
     ]
    }
   ],
   "source": [
    "# google_places = GooglePlaces(api_key)"
   ]
  },
  {
   "cell_type": "code",
   "execution_count": 34,
   "metadata": {},
   "outputs": [],
   "source": [
    "# query_result = google_places.nearby_search(location=test_address)"
   ]
  },
  {
   "cell_type": "code",
   "execution_count": 201,
   "metadata": {},
   "outputs": [],
   "source": [
    "# for place in query_result.places:\n",
    "#     print (place.name)\n",
    "#     print (place.geo_location)\n",
    "#     print (place.place_id)"
   ]
  },
  {
   "cell_type": "code",
   "execution_count": 41,
   "metadata": {},
   "outputs": [
    {
     "name": "stdout",
     "output_type": "stream",
     "text": [
      "\n",
      "\n"
     ]
    }
   ],
   "source": [
    "# for place in query_result.places:\n",
    "#     place.get_details()\n",
    "#     print (place.rating)"
   ]
  },
  {
   "cell_type": "code",
   "execution_count": 198,
   "metadata": {},
   "outputs": [],
   "source": [
    "alt_id = populartimes.get(api_key, types, p1_name, p2_name)"
   ]
  },
  {
   "cell_type": "code",
   "execution_count": 186,
   "metadata": {},
   "outputs": [],
   "source": [
    "composite_array = [[0] * 24] * 7"
   ]
  },
  {
   "cell_type": "code",
   "execution_count": 187,
   "metadata": {},
   "outputs": [],
   "source": [
    "for location in alt_id:\n",
    "    for x in range(7):\n",
    "    #     composite_array = [a[i]+b[i] for i in range(len(a))]\n",
    "        try:\n",
    "            composite_array[x] = [composite_array[x][i] + location['populartimes'][x]['data'][i] for i in range(24)]\n",
    "        except:\n",
    "            print('error processing item')\n",
    "            pass"
   ]
  },
  {
   "cell_type": "code",
   "execution_count": 190,
   "metadata": {},
   "outputs": [
    {
     "name": "stdout",
     "output_type": "stream",
     "text": [
      "[[31, 22, 18, 14, 12, 16, 29, 212, 532, 946, 1260, 1652, 1650, 1458, 1213, 1121, 1089, 995, 827, 573, 348, 175, 85, 58], [25, 20, 14, 12, 16, 22, 29, 257, 606, 1014, 1192, 1397, 1429, 1300, 1118, 1060, 1175, 1092, 915, 700, 453, 235, 108, 59], [29, 22, 16, 14, 16, 18, 25, 243, 514, 933, 1235, 1642, 1662, 1485, 1299, 1228, 1295, 1124, 941, 727, 449, 214, 130, 82], [50, 37, 27, 18, 25, 25, 27, 262, 604, 1017, 1376, 1776, 1795, 1558, 1322, 1204, 1236, 1084, 956, 752, 513, 338, 213, 133], [58, 39, 31, 27, 27, 27, 29, 272, 561, 816, 1356, 1824, 1857, 1615, 1342, 1135, 1079, 1042, 1026, 892, 647, 369, 280, 190], [87, 54, 39, 29, 14, 8, 8, 116, 336, 575, 1058, 1361, 1494, 1489, 1277, 1031, 786, 794, 670, 583, 478, 329, 227, 166], [93, 54, 37, 25, 12, 12, 14, 64, 276, 542, 676, 943, 1265, 1196, 928, 731, 562, 445, 405, 349, 307, 203, 95, 60]]\n"
     ]
    }
   ],
   "source": [
    "print(composite_array)"
   ]
  },
  {
   "cell_type": "code",
   "execution_count": 189,
   "metadata": {},
   "outputs": [
    {
     "name": "stdout",
     "output_type": "stream",
     "text": [
      "[25, 0, 0, 0, 0, 0, 0, 0, 0, 2, 0, 2, 2, 2, 12, 27, 40, 45, 50, 57, 62, 50, 30, 12]\n"
     ]
    }
   ],
   "source": [
    "print(alt_id[7]['populartimes'][6]['data'])"
   ]
  },
  {
   "cell_type": "code",
   "execution_count": 184,
   "metadata": {},
   "outputs": [
    {
     "name": "stdout",
     "output_type": "stream",
     "text": [
      "[0, 0, 0, 0, 0, 0, 0, 0, 0, 54, 54, 50, 50, 45, 27, 9, 2, 0, 0, 0, 0, 0, 0, 0]\n"
     ]
    }
   ],
   "source": []
  },
  {
   "cell_type": "markdown",
   "metadata": {},
   "source": [
    "### Connect to AWS station db"
   ]
  },
  {
   "cell_type": "code",
   "execution_count": null,
   "metadata": {},
   "outputs": [],
   "source": []
  },
  {
   "cell_type": "code",
   "execution_count": null,
   "metadata": {},
   "outputs": [],
   "source": []
  },
  {
   "cell_type": "code",
   "execution_count": null,
   "metadata": {},
   "outputs": [],
   "source": []
  },
  {
   "cell_type": "markdown",
   "metadata": {},
   "source": [
    "### 1. Get busy times for each station\n",
    "#### create dataframes for each day of aggregrate busy-ness within a .1 degree radius"
   ]
  },
  {
   "cell_type": "code",
   "execution_count": null,
   "metadata": {},
   "outputs": [],
   "source": [
    "# For each station:\n",
    "\n",
    "# Get Location Address (or Lat / Lng?)\n",
    "\n",
    "# Use address to get Google Place ID\n",
    "\n",
    "# With Place ID, get popular times (for just the location? Or for a radius of similar types? )\n",
    "\n",
    "    # For each day:\n",
    "    \n",
    "    # open corresponding CSV file\n",
    "    \n",
    "    # append data to csv file\n",
    "    \n",
    "    # close CSV file\n",
    "\n"
   ]
  },
  {
   "cell_type": "markdown",
   "metadata": {},
   "source": [
    "### 2. Create number of ports dataframe\n",
    "#### same size as the busy-ness dataframes to be able to do matrix multiplication"
   ]
  },
  {
   "cell_type": "code",
   "execution_count": null,
   "metadata": {},
   "outputs": [],
   "source": [
    "# open station csv file\n",
    "\n",
    "# open new ports file\n",
    "\n",
    "# for each station:\n",
    "\n",
    "# parse string and count number of ports\n",
    "\n",
    "# fill array of 24 with the number of ports\n",
    "\n",
    "# append to csv file\n",
    "\n",
    "# close ports file"
   ]
  },
  {
   "cell_type": "markdown",
   "metadata": {},
   "source": [
    "### 3. Create quality of port dataframe\n",
    "#### turn this into a percentage scalar to adjust demand based on perceived quality (div by 10)"
   ]
  },
  {
   "cell_type": "code",
   "execution_count": null,
   "metadata": {},
   "outputs": [],
   "source": [
    "# open station csv file\n",
    "\n",
    "# open quality of ports file\n",
    "\n",
    "# slice at plug_score index\n",
    "\n",
    "# divide by 10\n",
    "\n",
    "# for each row:\n",
    "\n",
    "# fill array of 24 with the quality score\n",
    "\n",
    "# close file"
   ]
  },
  {
   "cell_type": "markdown",
   "metadata": {},
   "source": [
    "### 4. Create file for US EV sales by car / plug type\n",
    "#### use this for determining specific port busy-ness granularity"
   ]
  },
  {
   "cell_type": "code",
   "execution_count": null,
   "metadata": {},
   "outputs": [],
   "source": []
  },
  {
   "cell_type": "markdown",
   "metadata": {},
   "source": [
    "### 5. Calculate composite dataframe \n",
    "#### multiply each data frame 1-3 above to yield dataframe 4"
   ]
  },
  {
   "cell_type": "code",
   "execution_count": null,
   "metadata": {},
   "outputs": [],
   "source": []
  },
  {
   "cell_type": "markdown",
   "metadata": {},
   "source": [
    "### 6. Save dataframes to AWS\n",
    "#### test API calls to get availability at current time or a specific time"
   ]
  },
  {
   "cell_type": "code",
   "execution_count": null,
   "metadata": {},
   "outputs": [],
   "source": []
  },
  {
   "cell_type": "markdown",
   "metadata": {},
   "source": [
    "### Sandbox"
   ]
  },
  {
   "cell_type": "code",
   "execution_count": 18,
   "metadata": {},
   "outputs": [],
   "source": [
    "# Get Google data for an address and compare versus Lat / Lng "
   ]
  },
  {
   "cell_type": "code",
   "execution_count": 19,
   "metadata": {},
   "outputs": [],
   "source": [
    "# See what is returned for that address\n",
    "\n",
    "# See what types are returned\n"
   ]
  },
  {
   "cell_type": "code",
   "execution_count": 200,
   "metadata": {},
   "outputs": [
    {
     "name": "stdout",
     "output_type": "stream",
     "text": [
      "1\n"
     ]
    }
   ],
   "source": [
    "print(len(alt_id))"
   ]
  },
  {
   "cell_type": "code",
   "execution_count": null,
   "metadata": {},
   "outputs": [],
   "source": [
    "# alt_id[ESTABLISHMENT]['populartimes'][DAY_OF_WEEK]['data]\n",
    "# returns an array of 24 times\n",
    "# print(alt_id[0]['populartimes'][0]['data'])"
   ]
  },
  {
   "cell_type": "code",
   "execution_count": null,
   "metadata": {},
   "outputs": [],
   "source": [
    "# print(composite_array[6])\n",
    "# a = [[0] * 24] * 7\n",
    "# print(alt_id[0]['populartimes'][0]['data'])\n",
    "# print(alt_id[0]['populartimes'][0]['data'][24])\n",
    "# print(alt_id[0]['populartimes'][0]['data'][25])"
   ]
  }
 ],
 "metadata": {
  "anaconda-cloud": {},
  "kernelspec": {
   "display_name": "Python [default]",
   "language": "python",
   "name": "python3"
  },
  "language_info": {
   "codemirror_mode": {
    "name": "ipython",
    "version": 3
   },
   "file_extension": ".py",
   "mimetype": "text/x-python",
   "name": "python",
   "nbconvert_exporter": "python",
   "pygments_lexer": "ipython3",
   "version": "3.5.4"
  }
 },
 "nbformat": 4,
 "nbformat_minor": 1
}
